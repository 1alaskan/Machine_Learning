{
  "cells": [
    {
      "cell_type": "raw",
      "metadata": {
        "id": "qrJX4FDa8oA8",
        "vscode": {
          "languageId": "raw"
        }
      },
      "source": [
        "---\n",
        "format:\n",
        "  html:\n",
        "    embed-resources: true\n",
        "---"
      ]
    },
    {
      "cell_type": "markdown",
      "metadata": {},
      "source": [
        "# XML, HTML, and Web Scraping\n",
        "\n",
        "JSON and XML are two different ways to represent hierarchical data. Which one is better? There are lots of articles online which discuss similarities and differences between JSON and XML and their advantages and disadvantages. Both formats are still in current usage, so it is good to be familiar with both. However, JSON is more common, so we'll focus on working with JSON representations of hierarchical data.\n",
        "\n",
        "The reading covered an example of using Beautiful Soup to parse XML. Rather than doing another example XML now, we'll skip straight to scraping HTML from a webpage. Both HTML and XML can be parsed in a similar way with Beautiful Soup."
      ]
    },
    {
      "cell_type": "code",
      "execution_count": null,
      "metadata": {
        "id": "XZhT8jhbuZSg"
      },
      "outputs": [],
      "source": [
        "import pandas as pd"
      ]
    },
    {
      "cell_type": "markdown",
      "metadata": {
        "id": "ApqnMQ4iV4qu"
      },
      "source": [
        "## Scraping an HTML table with Beautiful Soup"
      ]
    },
    {
      "cell_type": "markdown",
      "metadata": {
        "id": "9SD7XOs_So3G"
      },
      "source": [
        "Open the URL https://en.wikipedia.org/wiki/List_of_United_States_cities_by_population and scroll down until you see a table of the cities in the U.S. with population over 100,000 (as of Jul 1, 2022). We'll use Beautiful Soup to scrape information from this table."
      ]
    },
    {
      "cell_type": "markdown",
      "metadata": {
        "id": "HRmnzgaQS_T0"
      },
      "source": [
        "Read in the HTML from the ULR using the `requests` library."
      ]
    },
    {
      "cell_type": "code",
      "execution_count": null,
      "metadata": {
        "id": "xvYzbSospYVu"
      },
      "outputs": [],
      "source": [
        "import requests\n",
        "URL = \"https://en.wikipedia.org/wiki/List_of_United_States_cities_by_population\"\n",
        "HEADERS = {\"User-Agent\": \"Mozilla/5.0 (Windows NT 10.0; Win64; x64)\"}\n",
        "response = requests.get(URL, headers=HEADERS)"
      ]
    },
    {
      "cell_type": "markdown",
      "metadata": {
        "id": "YJ1Swg6B82_J"
      },
      "source": [
        "Use Beautiful Soup to parse this string into a tree called `soup`"
      ]
    },
    {
      "cell_type": "code",
      "execution_count": null,
      "metadata": {
        "colab": {
          "base_uri": "https://localhost:8080/"
        },
        "collapsed": true,
        "id": "e0jpmfwtpaEB",
        "outputId": "9169eecc-9ca8-4ca4-c26d-59773c1d813f"
      },
      "outputs": [],
      "source": [
        "from bs4 import BeautifulSoup\n",
        "soup = BeautifulSoup(response.content, \"html.parser\")"
      ]
    },
    {
      "cell_type": "markdown",
      "metadata": {
        "id": "lFxGW_KIDjnx"
      },
      "source": [
        "To find an HTML tag corresponding to a specific element on a webpage, right-click on it and choose \"Inspect element\". Go to the cities table Wikipedia page and do this now.\n",
        "\n",
        "You should find that the cities table on the Wikipedia page corresponds to the element\n",
        "\n",
        "```\n",
        "<table class=\"wikitable sortable jquery-tablesorter\" style=\"text-align:center\">\n",
        "```"
      ]
    },
    {
      "cell_type": "markdown",
      "metadata": {
        "id": "DR50aTBZEwov"
      },
      "source": [
        "There are many `<table>` tags on the page."
      ]
    },
    {
      "cell_type": "code",
      "execution_count": null,
      "metadata": {
        "colab": {
          "base_uri": "https://localhost:8080/"
        },
        "id": "4691d-EGEwc0",
        "outputId": "9cf3c7ad-8eba-4051-d167-f3c1b7be5684"
      },
      "outputs": [
        {
          "data": {
            "text/plain": [
              "10"
            ]
          },
          "execution_count": 28,
          "metadata": {},
          "output_type": "execute_result"
        }
      ],
      "source": [
        "len(soup.find_all(\"table\"))"
      ]
    },
    {
      "cell_type": "markdown",
      "metadata": {
        "id": "H1xslM2yE1GI"
      },
      "source": [
        "We can use attributes like `class=` and `style=` to narrow down the list."
      ]
    },
    {
      "cell_type": "code",
      "execution_count": null,
      "metadata": {
        "colab": {
          "base_uri": "https://localhost:8080/"
        },
        "id": "E0Q0sa46DvTZ",
        "outputId": "790c1f81-c8aa-4955-842d-47c9fe00e925"
      },
      "outputs": [
        {
          "data": {
            "text/plain": [
              "7"
            ]
          },
          "execution_count": 31,
          "metadata": {},
          "output_type": "execute_result"
        }
      ],
      "source": [
        "len(soup.find_all(\"table\", {\"class\": \"wikitable\"}))"
      ]
    },
    {
      "cell_type": "markdown",
      "metadata": {
        "id": "ndnRSJJiFFby"
      },
      "source": [
        "At this point, you can manually inspect the tables on the webpage to find that the one we want is the first one (see `[0]` below). We'll store this as `table`."
      ]
    },
    {
      "cell_type": "code",
      "execution_count": null,
      "metadata": {
        "colab": {
          "base_uri": "https://localhost:8080/"
        },
        "collapsed": true,
        "id": "sRBSqVGlYhuT",
        "outputId": "ef4983a8-1fbb-4924-92e7-01d2b048c932"
      },
      "outputs": [],
      "source": [
        "table = soup.find_all(\"table\",\n",
        "                      attrs={\n",
        "                          \"class\": \"wikitable\"}\n",
        "                      )[0]\n"
      ]
    },
    {
      "cell_type": "markdown",
      "metadata": {
        "id": "j4AWo3QoYqNY"
      },
      "source": [
        "**Now you will write code to scrape the information in `table` to create a Pandas data frame with one row for each city and columns for: city, state, population (2022 estimate), and 2020 land area (sq mi).** Refer to the Notes/suggestions below as you write your code. A few Hints are provided further down, but try coding first before looking at the hints."
      ]
    },
    {
      "cell_type": "markdown",
      "metadata": {
        "id": "KfRx2_XlDUqD"
      },
      "source": [
        "Notes/suggestions:\n",
        "\n",
        "- Use as a guide the code from the reading that produced the data frame of Statistics faculty\n",
        "- Inspect the page source as you write your code\n",
        "- You will need to write a loop to get the information for all cities, but you might want to try just scraping the info for New York first\n",
        "- You will need to pull the text from the tag. If `.text` returns text with \"\\n\" at the end, try `.get_text(strip = True)` instead of `.text`\n",
        "- Don't forget to convert to a Pandas Data Frame; it should have 333 rows and 4 columns\n",
        "- The goal of this exercise is just to create the Data Frame. If you were going to use it --- e.g., what is the population density for all cities in CA? --- then you would need to clean the data first (to clean strings and convert to quantitative). (You can use Beautiful Soup to do some of the cleaning for you, but that goes beyond our scope.)"
      ]
    },
    {
      "cell_type": "code",
      "execution_count": null,
      "metadata": {
        "id": "msKiUcOZpSX7"
      },
      "outputs": [],
      "source": [
        "# re run stuff from earlier\n",
        "import pandas as pd\n",
        "import requests\n",
        "from bs4 import BeautifulSoup\n",
        "\n",
        "URL = \"https://en.wikipedia.org/wiki/List_of_United_States_cities_by_population\"\n",
        "HEADERS = {\"User-Agent\": \"Mozilla/5.0 (Windows NT 10.0; Win64; x64)\"}\n",
        "response = requests.get(URL, headers=HEADERS)\n",
        "soup = BeautifulSoup(response.content, \"html.parser\")\n",
        "table = soup.find(\"table\", {\"class\": \"wikitable\"})\n"
      ]
    },
    {
      "cell_type": "code",
      "execution_count": null,
      "metadata": {
        "colab": {
          "base_uri": "https://localhost:8080/"
        },
        "id": "BfnhzsKSPPKp",
        "outputId": "89c094f1-6dee-46d5-bf48-1ee8dfe9a930"
      },
      "outputs": [
        {
          "name": "stdout",
          "output_type": "stream",
          "text": [
            "(346, 4)\n",
            "              City State Population   sq mi\n",
            "0      New York[c]    NY  8,478,072  −3.70%\n",
            "1      Los Angeles    CA  3,878,704  −0.51%\n",
            "2          Chicago    IL  2,721,308  −0.91%\n",
            "3          Houston    TX  2,390,125  +3.71%\n",
            "4          Phoenix    AZ  1,673,164  +4.04%\n",
            "5  Philadelphia[d]    PA  1,573,916  −1.86%\n",
            "6      San Antonio    TX  1,526,656  +6.41%\n",
            "7        San Diego    CA  1,404,452  +1.26%\n",
            "8           Dallas    TX  1,326,087  +1.66%\n",
            "9  Jacksonville[e]    FL  1,009,833  +6.34%\n"
          ]
        }
      ],
      "source": [
        "# ran into a a bug and evtuatly foudn oiut the first table is actualy the key\n",
        "all_tables = soup.find_all(\"table\", {\"class\": \"wikitable\"})\n",
        "table = all_tables[1]\n",
        "\n",
        "# start list\n",
        "rows = []\n",
        "\n",
        "# accidnelty got the header so added [1:]\n",
        "for city_row in table.find_all(\"tr\")[1:]:\n",
        "\n",
        "    # used the hint from bellow to know to use td\n",
        "    cells = city_row.find_all(\"td\")\n",
        "\n",
        "    # have to skip 2020 censue and % cange to get to square miiles\n",
        "    if len(cells) >= 5:\n",
        "\n",
        "        # The rank column is represented by <th> tags, rather than <td> tags.\n",
        "        # So within a row, the first (that is, [0]) <td> tag corresponds to the city name.\n",
        "        city = cells[0].get_text(strip=True)\n",
        "        state = cells[1].get_text(strip=True)\n",
        "        population = cells[2].get_text(strip=True)\n",
        "        land_area = cells[4].get_text(strip=True)\n",
        "\n",
        "        # add to the list\n",
        "        rows.append({\n",
        "            \"City\": city,\n",
        "            \"State\": state,\n",
        "            \"Population\": population,\n",
        "            \"sq mi\": land_area\n",
        "        })\n",
        "\n",
        "# make into pandas df\n",
        "df_cities = pd.DataFrame(rows)\n",
        "\n",
        "# check data is the right size\n",
        "print(df_cities.shape)\n",
        "print(df_cities.head(10))"
      ]
    },
    {
      "cell_type": "markdown",
      "metadata": {
        "id": "6s3tH82XZ1X0"
      },
      "source": [
        "Hints:\n",
        "\n",
        "- Each city is a row in the table; find all the `<tr>` tags to find all the cities\n",
        "- Look for the `<td>` tag to see table entries within a row\n",
        "- The rank column is represented by `<th>` tags, rather than `<td>` tags. So within a row, the first (that is, `[0]`) `<td>` tag corresponds to the city name."
      ]
    },
    {
      "cell_type": "markdown",
      "metadata": {
        "id": "ctj79YpgX6hw"
      },
      "source": [
        "## Scraping information that is NOT in a `<table>` with Beautiful Soup"
      ]
    },
    {
      "cell_type": "markdown",
      "metadata": {
        "id": "KK6rJQbuuWwF"
      },
      "source": [
        "The Cal Poly course catalog http://catalog.calpoly.edu/collegesandprograms/collegeofsciencemathematics/statistics/#courseinventory contains a list of courses offered by the Statistics department. **You will scrape this website to obtain a Pandas data frame with one row for each DATA or STAT course and two columns: course name and number (e.g, DATA 301. Introduction to Data Science) and term typically offered (e.g., Term Typically Offered: F, W, SP).**"
      ]
    },
    {
      "cell_type": "markdown",
      "metadata": {
        "id": "hbLLrwxs0eWd"
      },
      "source": [
        "Note: Pandas `read_html` is not help here since the courses are not stored in a `<table>.`"
      ]
    },
    {
      "cell_type": "code",
      "execution_count": null,
      "metadata": {
        "colab": {
          "base_uri": "https://localhost:8080/"
        },
        "id": "QIRewkca0jhz",
        "outputId": "bbee9a66-f618-4e14-d7c8-d665d67d53d8"
      },
      "outputs": [
        {
          "data": {
            "text/plain": [
              "[                                        Program name   Program type\n",
              " 0                              Actuarial Preparation          Minor\n",
              " 1  Cross Disciplinary Studies Minor in Bioinforma...          Minor\n",
              " 2   Cross Disciplinary Studies Minor in Data Science          Minor\n",
              " 3                                         Statistics  BS, MS, Minor]"
            ]
          },
          "execution_count": 59,
          "metadata": {},
          "output_type": "execute_result"
        }
      ],
      "source": [
        "pd.read_html(\"http://catalog.calpoly.edu/collegesandprograms/collegeofsciencemathematics/statistics/#courseinventory\")"
      ]
    },
    {
      "cell_type": "markdown",
      "metadata": {
        "id": "lvSrhxS4Se7a"
      },
      "source": [
        "\n",
        "Notes/suggestions:\n",
        "\n",
        "\n",
        "- Inspect the page source as you write your code\n",
        "- The courses are not stored in a `<table>`. How are they stored?\n",
        "- You will need to write a loop to get the information for all courses, but you might want to try just scraping the info for DATA 100 first\n",
        "- What kind of tag is the course name stored in? What is the `class` of the tag?\n",
        "- What kind of tag is the quarter(s) the course is offered stored in? What is the `class` of the tag? Is this the only tag of this type with the class? How will you get the one you want?\n",
        "- You don't have to remove the number of units (e.g., 4 units) from the course name and number, but you can try it if you want\n",
        "- You will need to pull the text from the tag. If `.text` returns text with \"\\n\" at the end, try `get_text(strip = True)` instead of `text`\n",
        "- Don't forget to convert to a Pandas Data Frame; it should have 74 rows and 2 columns\n",
        "- The goal of this exercise is just to create the Data Frame. If you were going to use it then you might need to clean the data first. (You can use Beautiful Soup to do some of the cleaning for you, but that goes beyond our scope.)\n",
        "\n"
      ]
    },
    {
      "cell_type": "code",
      "execution_count": null,
      "metadata": {
        "id": "ZbW6xon4vICB"
      },
      "outputs": [],
      "source": [
        "import pandas as pd\n",
        "import requests\n",
        "from bs4 import BeautifulSoup\n",
        "\n",
        "URL = \"http://catalog.calpoly.edu/collegesandprograms/collegeofsciencemathematics/statistics/#courseinventory\"\n",
        "HEADERS = {\"User-Agent\": \"Mozilla/5.0 (Windows NT 10.0; Win64; x64)\"}\n",
        "response = requests.get(URL, headers=HEADERS)\n",
        "soup = BeautifulSoup(response.content, \"html.parser\")\n"
      ]
    },
    {
      "cell_type": "code",
      "execution_count": null,
      "metadata": {
        "colab": {
          "base_uri": "https://localhost:8080/"
        },
        "id": "EW2sWIGavIFc",
        "outputId": "7f1e858b-98f2-4412-ed7d-7270700d1f68"
      },
      "outputs": [
        {
          "name": "stdout",
          "output_type": "stream",
          "text": [
            "(74, 2)\n",
            "                                              Course  \\\n",
            "0           DATA 100. Data Science for All I.4 units   \n",
            "1     DATA 301. Introduction to Data Science.4 units   \n",
            "2  DATA 401. Data Science Process and Ethics.3 units   \n",
            "3  DATA 402. Mathematical Foundations of Data Sci...   \n",
            "4  DATA 403. Data Science Projects Laboratory.1 unit   \n",
            "5        DATA 441. Bioinformatics Capstone I.2 units   \n",
            "6       DATA 442. Bioinformatics Capstone II.2 units   \n",
            "7          DATA 451. Data Science Capstone I.2 units   \n",
            "8         DATA 452. Data Science Capstone II.2 units   \n",
            "9              DATA 472. Data Science Seminar.1 unit   \n",
            "\n",
            "             Term Typically Offered  \n",
            "0  Term Typically Offered: F, W, SP  \n",
            "1  Term Typically Offered: F, W, SP  \n",
            "2         Term Typically Offered: F  \n",
            "3         Term Typically Offered: F  \n",
            "4         Term Typically Offered: F  \n",
            "5         Term Typically Offered: W  \n",
            "6        Term Typically Offered: SP  \n",
            "7         Term Typically Offered: W  \n",
            "8        Term Typically Offered: SP  \n",
            "9  Term Typically Offered: F, W, SP  \n"
          ]
        }
      ],
      "source": [
        "# basicly the same thing as beffore but the tags are unique for each colom\n",
        "rows = []\n",
        "\n",
        "\n",
        "for course in soup.find_all(\"div\", {\"class\": \"courseblock\"}):\n",
        "    name_tag = course.find(\"p\", {\"class\": \"courseblocktitle\"})\n",
        "    course_name = name_tag.get_text(strip=True)\n",
        "\n",
        "    term_tag = course.find(\"p\", {\"class\": \"noindent\"})\n",
        "    term_offered = term_tag.get_text(strip=True)\n",
        "\n",
        "    rows.append({\n",
        "        \"Course\": course_name,\n",
        "        \"Term Typically Offered\": term_offered\n",
        "    })\n",
        "\n",
        "df_courses = pd.DataFrame(rows)\n",
        "\n",
        "\n",
        "print(df_courses.shape)\n",
        "print(df_courses.head(10))"
      ]
    },
    {
      "cell_type": "markdown",
      "metadata": {
        "id": "17e8M_OsaHJz"
      },
      "source": [
        "Hints:\n",
        "\n",
        "- Each course is represented by a `<div>` with `class=courseblock`, so you can find all the courses with `soup.find_all(\"div\", {\"class\": \"courseblock\"})`\n",
        "- The course name is in a `<p>` tag with `class=courseblocktitle`, inside a `<strong>` tag. (Though I don't think we need to find the strong tag here.)\n",
        "- The term typically offered is in `<p>` tag with `class=noindent`. However, there are several tags with this class; term typically offered is the first one.\n",
        "- If you want to use Beautiful Soup to remove the course units (e.g., 4 units), find the `<span>` tag within the course name tag and `.extract()` this span tag"
      ]
    }
  ],
  "metadata": {
    "colab": {
      "provenance": []
    },
    "kernelspec": {
      "display_name": "Python 3",
      "name": "python3"
    },
    "language_info": {
      "name": "python"
    }
  },
  "nbformat": 4,
  "nbformat_minor": 0
}
