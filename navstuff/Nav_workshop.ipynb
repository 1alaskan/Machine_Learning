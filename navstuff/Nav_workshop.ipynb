{
 "cells": [
  {
   "cell_type": "raw",
   "id": "10b20735",
   "metadata": {
    "vscode": {
     "languageId": "raw"
    }
   },
   "source": [
    "---\n",
    "format:\n",
    "  html:\n",
    "    embed-resources: true\n",
    "echo: true\n",
    "code-fold: true\n",
    "title: Pandas Lab\n",
    "author: Matthew Spink \n",
    "---"
   ]
  },
  {
   "cell_type": "markdown",
   "id": "146e049f",
   "metadata": {},
   "source": [
    "Setup"
   ]
  },
  {
   "cell_type": "code",
   "execution_count": 6,
   "id": "0d71b4ac",
   "metadata": {},
   "outputs": [],
   "source": [
    "import pandas as pd\n",
    "import numpy as np \n",
    "\n",
    "# in windows need to change to back slash, becasue in windows \\t means tab \n",
    "# customers = pd.read_csv(\"C:/Users/spink/OneDrive/Desktop/Machine Learning/navstuff/customers.csv\")\n",
    "customers = pd.read_csv(\"customers.csv\")\n",
    "orders =  pd.read_csv(\"orders.csv\")\n",
    "products = pd.read_csv(\"products.csv\")\n",
    "traffic = pd.read_csv(\"traffic.csv\")\n",
    "competitor_prices = pd.read_html(\"competitor_prices.html\")"
   ]
  },
  {
   "cell_type": "markdown",
   "id": "20c93a91",
   "metadata": {},
   "source": [
    "Reading and loading diffrent files \n",
    "\n",
    "* CSV: pd.read_csv(\"<file_name>\")\n",
    "* Excel: pd.read_excel(\"<file_name>\")\n",
    "* JSON: pd.read_json(\"<file_name>\")\n",
    "* HTML_Tables: pd.read_html(\"<file_name>\")\n",
    "\n",
    "<anyone> is the file type\n",
    "    Exampe: pd_read<html>('url')\n",
    "* URL: pd.read_<anyone>('url')\n",
    "* SQL: pd.read_sql(\"SELECT...\", connection)"
   ]
  },
  {
   "cell_type": "code",
   "execution_count": 7,
   "id": "5fc4d73c",
   "metadata": {},
   "outputs": [],
   "source": [
    "cust_data = customers\n",
    "ord_data = orders\n",
    "prod_data = products\n",
    "traff_data = traffic"
   ]
  },
  {
   "cell_type": "code",
   "execution_count": 8,
   "id": "2c28fab4",
   "metadata": {},
   "outputs": [
    {
     "name": "stdout",
     "output_type": "stream",
     "text": [
      "<class 'pandas.core.frame.DataFrame'>\n",
      "RangeIndex: 120 entries, 0 to 119\n",
      "Data columns (total 7 columns):\n",
      " #   Column       Non-Null Count  Dtype \n",
      "---  ------       --------------  ----- \n",
      " 0   customer_id  120 non-null    int64 \n",
      " 1   first_name   120 non-null    object\n",
      " 2   email        120 non-null    object\n",
      " 3   phone        103 non-null    object\n",
      " 4   city         120 non-null    object\n",
      " 5   state        120 non-null    object\n",
      " 6   signup_date  120 non-null    object\n",
      "dtypes: int64(1), object(6)\n",
      "memory usage: 6.7+ KB\n"
     ]
    }
   ],
   "source": [
    "customers.info()"
   ]
  },
  {
   "cell_type": "code",
   "execution_count": 9,
   "id": "baae2b14",
   "metadata": {},
   "outputs": [
    {
     "data": {
      "text/plain": [
       "customer_id     int64\n",
       "first_name     object\n",
       "email          object\n",
       "phone          object\n",
       "city           object\n",
       "state          object\n",
       "signup_date    object\n",
       "dtype: object"
      ]
     },
     "execution_count": null,
     "metadata": {},
     "output_type": "execute_result"
    }
   ],
   "source": [
    "customers.dtypes"
   ]
  },
  {
   "cell_type": "code",
   "execution_count": 13,
   "id": "2e963c8f",
   "metadata": {},
   "outputs": [
    {
     "data": {
      "text/plain": [
       "Index(['customer_id', 'first_name', 'email', 'phone', 'city', 'state',\n",
       "       'signup_date'],\n",
       "      dtype='object')"
      ]
     },
     "execution_count": null,
     "metadata": {},
     "output_type": "execute_result"
    }
   ],
   "source": [
    "customers.columns"
   ]
  },
  {
   "cell_type": "code",
   "execution_count": 14,
   "id": "b748a683",
   "metadata": {},
   "outputs": [
    {
     "data": {
      "text/html": [
       "<div>\n",
       "<style scoped>\n",
       "    .dataframe tbody tr th:only-of-type {\n",
       "        vertical-align: middle;\n",
       "    }\n",
       "\n",
       "    .dataframe tbody tr th {\n",
       "        vertical-align: top;\n",
       "    }\n",
       "\n",
       "    .dataframe thead th {\n",
       "        text-align: right;\n",
       "    }\n",
       "</style>\n",
       "<table border=\"1\" class=\"dataframe\">\n",
       "  <thead>\n",
       "    <tr style=\"text-align: right;\">\n",
       "      <th></th>\n",
       "      <th>customer_id</th>\n",
       "    </tr>\n",
       "  </thead>\n",
       "  <tbody>\n",
       "    <tr>\n",
       "      <th>count</th>\n",
       "      <td>120.000000</td>\n",
       "    </tr>\n",
       "    <tr>\n",
       "      <th>mean</th>\n",
       "      <td>60.500000</td>\n",
       "    </tr>\n",
       "    <tr>\n",
       "      <th>std</th>\n",
       "      <td>34.785054</td>\n",
       "    </tr>\n",
       "    <tr>\n",
       "      <th>min</th>\n",
       "      <td>1.000000</td>\n",
       "    </tr>\n",
       "    <tr>\n",
       "      <th>25%</th>\n",
       "      <td>30.750000</td>\n",
       "    </tr>\n",
       "    <tr>\n",
       "      <th>50%</th>\n",
       "      <td>60.500000</td>\n",
       "    </tr>\n",
       "    <tr>\n",
       "      <th>75%</th>\n",
       "      <td>90.250000</td>\n",
       "    </tr>\n",
       "    <tr>\n",
       "      <th>max</th>\n",
       "      <td>120.000000</td>\n",
       "    </tr>\n",
       "  </tbody>\n",
       "</table>\n",
       "</div>"
      ],
      "text/plain": [
       "       customer_id\n",
       "count   120.000000\n",
       "mean     60.500000\n",
       "std      34.785054\n",
       "min       1.000000\n",
       "25%      30.750000\n",
       "50%      60.500000\n",
       "75%      90.250000\n",
       "max     120.000000"
      ]
     },
     "execution_count": null,
     "metadata": {},
     "output_type": "execute_result"
    }
   ],
   "source": [
    "customers.describe()"
   ]
  },
  {
   "cell_type": "code",
   "execution_count": 17,
   "id": "271a09f6",
   "metadata": {},
   "outputs": [
    {
     "data": {
      "text/plain": [
       "24"
      ]
     },
     "execution_count": null,
     "metadata": {},
     "output_type": "execute_result"
    }
   ],
   "source": [
    "customers['city'].nunique()"
   ]
  },
  {
   "cell_type": "code",
   "execution_count": 20,
   "id": "6a5a3ecb",
   "metadata": {},
   "outputs": [
    {
     "data": {
      "text/plain": [
       "0      NY\n",
       "1      NY\n",
       "2      NY\n",
       "3      AZ\n",
       "4      TX\n",
       "       ..\n",
       "115    IL\n",
       "116    MA\n",
       "117    IL\n",
       "118    IL\n",
       "119    NY\n",
       "Name: ST, Length: 120, dtype: object"
      ]
     },
     "execution_count": null,
     "metadata": {},
     "output_type": "execute_result"
    }
   ],
   "source": [
    "customers['state'].rename('ST')"
   ]
  },
  {
   "cell_type": "code",
   "execution_count": 21,
   "id": "d5b854c9",
   "metadata": {},
   "outputs": [
    {
     "data": {
      "text/plain": [
       "customer_id     0\n",
       "first_name      0\n",
       "email           0\n",
       "phone          17\n",
       "city            0\n",
       "state           0\n",
       "signup_date     0\n",
       "dtype: int64"
      ]
     },
     "execution_count": null,
     "metadata": {},
     "output_type": "execute_result"
    }
   ],
   "source": [
    "customers.isna().sum()"
   ]
  },
  {
   "cell_type": "code",
   "execution_count": 22,
   "id": "77c908ad",
   "metadata": {},
   "outputs": [
    {
     "data": {
      "text/plain": [
       "0      +1-555-242-2679\n",
       "1       1-000-000-0000\n",
       "2      +1-555-127-4257\n",
       "3      +1-555-928-1106\n",
       "4      +1-555-320-6514\n",
       "            ...       \n",
       "115    +1-555-561-4995\n",
       "116     1-000-000-0000\n",
       "117    +1-555-916-5232\n",
       "118    +1-555-629-4130\n",
       "119    +1-555-876-4937\n",
       "Name: phone, Length: 120, dtype: object"
      ]
     },
     "execution_count": null,
     "metadata": {},
     "output_type": "execute_result"
    }
   ],
   "source": [
    "customers.fillna('1-000-000-0000')['phone']"
   ]
  },
  {
   "cell_type": "markdown",
   "id": "12d4b79e",
   "metadata": {},
   "source": [
    "Mutating and Transforming "
   ]
  },
  {
   "cell_type": "code",
   "execution_count": null,
   "id": "6dedaf78",
   "metadata": {},
   "outputs": [],
   "source": [
    "orders_enrich = ord_data.merge "
   ]
  }
 ],
 "metadata": {
  "language_info": {
   "name": "python"
  }
 },
 "nbformat": 4,
 "nbformat_minor": 5
}
